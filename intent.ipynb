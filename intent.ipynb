
{
  "nbformat": 4,
  "nbformat_minor": 0,
  "metadata": {
    "colab": {
      "provenance": [],
      "authorship_tag": "ABX9TyM7NVAzY6uaZ8SvJe/j+qHr",
      "include_colab_link": true
    },
    "kernelspec": {
      "name": "python3",
      "display_name": "Python 3"
    },
    "language_info": {
      "name": "python"
    }
  },
  "cells": [
    {
      "cell_type": "markdown",
      "metadata": {
        "id": "view-in-github",
        "colab_type": "text"
      },
      "source": [
        "<a href=\"https://colab.research.google.com/github/divyasri-jegan-11/IntentDetectAI/blob/main/intent.ipynb\" target=\"_parent\"><img src=\"https://colab.research.google.com/assets/colab-badge.svg\" alt=\"Open In Colab\"/></a>"
      ]
    },
    {
      "cell_type": "markdown",
      "source": [
        "Install necessary libraries"
      ],
      "metadata": {
        "id": "JyEX1W8PQH4y"
      }
    },
    {
      "cell_type": "code",
      "execution_count": null,
      "metadata": {
        "id": "tXzABO3OPuQl"
      },
      "outputs": [],
      "source": [
        "!pip install -q transformers datasets evaluate"
      ]
    },
    {
      "cell_type": "markdown",
      "source": [
        "Train  the model and learn the multilingual words"
      ],
      "metadata": {
        "id": "-8V_Y5lgQQHU"
      }
    },
    {
      "cell_type": "code",
      "source": [
        "from datasets import load_dataset\n",
        "\n",
        "# Load ClINC150 multilingual (English + other languages)\n",
        "dataset = load_dataset(\"clinc_oos\", \"plus\")  # Use \"plus\" for multilingual version\n",
        "\n",
        "# Check labels\n",
        "labels = dataset[\"train\"].features[\"intent\"].names\n",
        "num_labels = len(labels)\n"
      ],
      "metadata": {
        "id": "5yVC1xToPxiW"
      },
      "execution_count": null,
      "outputs": []
    },
    {
      "cell_type": "code",
      "source": [
        "from transformers import AutoTokenizer\n",
        "\n",
        "tokenizer = AutoTokenizer.from_pretrained(\"bert-base-multilingual-cased\")\n",
        "\n",
        "def tokenize(example):\n",
        "    return tokenizer(example[\"text\"], truncation=True, padding=\"max_length\")\n",
        "\n",
        "# Apply tokenization\n",
        "dataset = dataset.map(tokenize, batched=True)\n",
        "\n",
        "# Rename and format\n",
        "dataset = dataset.rename_column(\"intent\", \"labels\")\n",
        "dataset.set_format(\"torch\", columns=[\"input_ids\", \"attention_mask\", \"labels\"])\n",
        "\n",
        "# Split\n",
        "train_ds = dataset[\"train\"]\n",
        "val_ds = dataset[\"validation\"]\n",
        "test_ds = dataset[\"test\"]\n"
      ],
      "metadata": {
        "id": "HRrZh-zsP1KL"
      },
      "execution_count": null,
      "outputs": []
    },
    {
      "cell_type": "code",
      "source": [
        "from transformers import AutoModelForSequenceClassification\n",
        "\n",
        "model = AutoModelForSequenceClassification.from_pretrained(\n",
        "    \"bert-base-multilingual-cased\",\n",
        "    num_labels=num_labels\n",
        ")\n"
      ],
      "metadata": {
        "id": "5BrCKzS6P4aM"
      },
      "execution_count": null,
      "outputs": []
    },
    {
      "cell_type": "code",
      "source": [
        "from transformers import TrainingArguments\n",
        "\n",
        "training_args = TrainingArguments(\n",
        "    output_dir=\"./results\",\n",
        "    evaluation_strategy=\"epoch\",\n",
        "    save_strategy=\"epoch\",\n",
        "    per_device_train_batch_size=8,\n",
        "    num_train_epochs=2,\n",
        "    save_total_limit=1,\n",
        "    load_best_model_at_end=True,\n",
        "    report_to=\"none\"  # Disable wandb\n",
        ")\n"
      ],
      "metadata": {
        "id": "wm5UrmkvP6KL"
      },
      "execution_count": null,
      "outputs": []
    },
    {
      "cell_type": "code",
      "source": [
        "from transformers import Trainer, TrainingArguments\n",
        "\n",
        "trainer = Trainer(\n",
        "    model=model,\n",
        "    args=training_args,\n",
        "    train_dataset=train_ds,\n",
        "    eval_dataset=val_ds,\n",
        "    tokenizer=tokenizer\n",
        ")\n",
        "\n",
        "trainer.train()\n"
      ],
      "metadata": {
        "id": "F65OttYnP8rr"
      },
      "execution_count": null,
      "outputs": []
    },
    {
      "cell_type": "markdown",
      "source": [
        "Find the accuracy of the model developed"
      ],
      "metadata": {
        "id": "D1Csg5P2QY05"
      }
    },
    {
      "cell_type": "code",
      "source": [
        "import evaluate\n",
        "\n",
        "metric = evaluate.load(\"accuracy\")\n",
        "preds = trainer.predict(test_ds)\n",
        "accuracy = metric.compute(predictions=preds.predictions.argmax(-1), references=preds.label_ids)\n",
        "\n",
        "print(\"Test Accuracy:\", accuracy)\n"
      ],
      "metadata": {
        "id": "2rDuzjiXP-bm"
      },
      "execution_count": null,
      "outputs": []
    },
    {
      "cell_type": "markdown",
      "source": [
        "Use huggingface concept and deploying it in the huggingface space"
      ],
      "metadata": {
        "id": "3bBqd4A2QcGQ"
      }
    },
    {
      "cell_type": "code",
      "source": [
        "from huggingface_hub import notebook_login\n",
        "notebook_login()"
      ],
      "metadata": {
        "id": "C6-I9PLbQApA"
      },
      "execution_count": null,
      "outputs": []
    },
    {
      "cell_type": "code",
      "source": [
        "model.push_to_hub(\"IntentDetectAI\")\n",
        "tokenizer.push_to_hub(\"IntentDetectAI\")\n"
      ],
      "metadata": {
        "id": "PEqll--qQB47"
      },
      "execution_count": null,
      "outputs": []
    },
    {
      "cell_type": "markdown",
      "source": [
        "To have a application use streamlit"
      ],
      "metadata": {
        "id": "ESDkLX8cQnHI"
      }
    },
    {
      "cell_type": "code",
      "source": [
        "!pip install streamlit torch"
      ],
      "metadata": {
        "id": "J2vNKf8yQDR6"
      },
      "execution_count": null,
      "outputs": []
    },
    {
      "cell_type": "code",
      "source": [
        "import streamlit as st\n",
        "from transformers import AutoTokenizer, AutoModelForSequenceClassification\n",
        "import torch\n",
        "\n",
        "st.title(\"🧠 IntentDetectAI\")\n",
        "st.write(\"Multilingual Intent Classifier\")\n",
        "\n",
        "tokenizer = AutoTokenizer.from_pretrained(\"divyasani11/IntentDetectAI\")\n",
        "model = AutoModelForSequenceClassification.from_pretrained(\"divyasani11/IntentDetectAI\")\n",
        "\n",
        "text = st.text_input(\"Enter your query:\")\n",
        "if text:\n",
        "    inputs = tokenizer(text, return_tensors=\"pt\", truncation=True, padding=True)\n",
        "    with torch.no_grad():\n",
        "        logits = model(**inputs).logits\n",
        "    prediction = torch.argmax(logits, dim=-1).item()\n",
        "    st.write(f\"Predicted intent: {prediction}\")\n"
      ],
      "metadata": {
        "id": "cckiiUGtQFSa"
      },
      "execution_count": null,
      "outputs": []
    }
  ]
}
